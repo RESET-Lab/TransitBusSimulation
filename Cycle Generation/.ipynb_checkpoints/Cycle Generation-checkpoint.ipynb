{
 "cells": [
  {
   "cell_type": "code",
   "execution_count": 1,
   "metadata": {},
   "outputs": [],
   "source": [
    "import os\n",
    "import geopandas as gpd\n",
    "import numpy as np\n",
    "from tqdm import tqdm"
   ]
  },
  {
   "cell_type": "code",
   "execution_count": 2,
   "metadata": {},
   "outputs": [],
   "source": [
    "import matplotlib.pyplot as plt"
   ]
  },
  {
   "cell_type": "code",
   "execution_count": 3,
   "metadata": {},
   "outputs": [],
   "source": [
    "MERGED_DATA_PATH = '../Data/Speed Data/Merged' \n",
    "GRADIENT_DATA_PATH = '../Data/Gradient Data/Adjusted/'\n",
    "OUTPUT_PATH = '../Data/Cycle Data/Original'"
   ]
  },
  {
   "cell_type": "code",
   "execution_count": 4,
   "metadata": {},
   "outputs": [],
   "source": [
    "def closest(geom,possible):\n",
    "    '''\n",
    "    \n",
    "    Input:\n",
    "    geom - LineString geometry of bus route segment\n",
    "    possible - LineString geometry of associated speed mesh segments found through spatial joining\n",
    "    \n",
    "    Output:\n",
    "    i - index of possible which has the smallest angle with geom\n",
    "    \n",
    "    '''\n",
    "    dy = geom.coords[1][1] - geom.coords[0][1]\n",
    "    dx = geom.coords[1][0] - geom.coords[0][0]\n",
    "    \n",
    "    theta = np.arctan2(dy,dx)\n",
    "    \n",
    "    ans = 0\n",
    "    close = 100000\n",
    "    \n",
    "    for i,e in enumerate(possible):\n",
    "        dy = e.coords[1][1] - e.coords[0][1]\n",
    "        dx = e.coords[1][0] - e.coords[0][0]\n",
    "    \n",
    "        t_theta = np.arctan2(dy,dx)\n",
    "        \n",
    "        if(abs(theta-t_theta) < close):\n",
    "            close = abs(theta-t_theta)\n",
    "            ans = i\n",
    "    \n",
    "    return i"
   ]
  },
  {
   "cell_type": "code",
   "execution_count": 5,
   "metadata": {},
   "outputs": [],
   "source": [
    "def add_speed(df, route):\n",
    "    \n",
    "    '''\n",
    "    Uses spatial joining to add speed data to route GeoDataFrame\n",
    "    \n",
    "    Input:\n",
    "    df - GeoDataFrame of bucketed speed mesh\n",
    "    route - GeoDataFrame of bus route \n",
    "    \n",
    "    Output\n",
    "    None\n",
    "    '''\n",
    "    result = gpd.sjoin(route,df)\n",
    "    \n",
    "    speeds = np.zeros(len(route['geometry']))\n",
    "            \n",
    "    for idx in set(result.index):\n",
    "        cur = list(result['index_right'][result.index == idx])\n",
    "\n",
    "        ind = closest(route['geometry'][idx],list(df['non_buffered'][cur]))\n",
    "        poss = list(df['speed'][cur])\n",
    "\n",
    "        speeds[idx] = poss[ind]\n",
    "\n",
    "    route['speed'] = speeds\n",
    "    "
   ]
  },
  {
   "cell_type": "code",
   "execution_count": 6,
   "metadata": {},
   "outputs": [],
   "source": [
    "def to_cycle(route, out_path):\n",
    "    '''\n",
    "    TODO: DOCUMENTATION\n",
    "    '''\n",
    "    speeds = []\n",
    "    grades = []\n",
    "\n",
    "    time_left = 1\n",
    "    cur_speed = 0\n",
    "    cur_grade = 0\n",
    "    empty = 0\n",
    "\n",
    "    avg_speed = np.mean(route['speed'][route['speed'] != 0])\n",
    "    \n",
    "    for i in range(len(route['geometry'])):\n",
    "        geom = route['geometry'][i]\n",
    "        speed = route['speed'][i] \n",
    "        if speed == 0:\n",
    "            empty += 1\n",
    "            speed = avg_speed\n",
    "        grade = route['grade'][i]\n",
    "        len_left = geom.length\n",
    "        while(len_left > 0):\n",
    "            if(len_left > speed*time_left):\n",
    "                len_left -= speed*time_left\n",
    "                cur_speed += time_left*speed\n",
    "                cur_grade += time_left*grade\n",
    "                grades.append(cur_grade)\n",
    "                speeds.append(cur_speed)\n",
    "                cur_speed = 0\n",
    "                cur_grade = 0\n",
    "                time_left = 1\n",
    "            else:\n",
    "                time_spent = len_left/speed \n",
    "                len_left = 0\n",
    "                time_left -= time_spent\n",
    "                cur_speed += time_spent*speed\n",
    "                cur_grade += time_spent*grade\n",
    "                \n",
    "    f = open(out_path, \"w\")\n",
    "    f.write(\"cycSecs,cycMps,cycGrade,cycRoadType\\n\")\n",
    "    for i in range(len(grades)):\n",
    "        f.write(str(i) + \",\" + str(speeds[i]) + \",\" + str(grades[i]) +\",0\\n\")\n",
    "    f.close()"
   ]
  },
  {
   "cell_type": "code",
   "execution_count": null,
   "metadata": {
    "scrolled": true
   },
   "outputs": [
    {
     "name": "stderr",
     "output_type": "stream",
     "text": [
      "Loading Speed Data:   8%|▊        | 1/12 [00:27<05:07, 27.94s/it]"
     ]
    }
   ],
   "source": [
    "speed_dfs = []\n",
    "\n",
    "\n",
    "for month_bucket in range(4):\n",
    "    speed_dfs.append([])\n",
    "    \n",
    "for k in tqdm(range(12),'Loading Speed Data'):\n",
    "    month_bucket, hour_bucket = k//3, k%3\n",
    "    path = os.path.join(MERGED_DATA_PATH, \"%d_%d.shp\" % (month_bucket, hour_bucket))\n",
    "    df = gpd.read_file(path)\n",
    "    df = df.to_crs('epsg:32614')\n",
    "    \n",
    "    df['non_buffered'] = df['geometry']\n",
    "    df['geometry'] = df['geometry'].buffer(20)\n",
    "\n",
    "    speed_dfs[month_bucket].append(df)"
   ]
  },
  {
   "cell_type": "code",
   "execution_count": null,
   "metadata": {},
   "outputs": [],
   "source": [
    "for month_bucket in range(4):\n",
    "    for hour_bucket in range(3):\n",
    "        bucket = \"%d_%d\" % (month_bucket, hour_bucket)\n",
    "        bucket_path = os.path.join(OUTPUT_PATH, bucket)\n",
    "        os.mkdir(bucket_path)"
   ]
  },
  {
   "cell_type": "code",
   "execution_count": null,
   "metadata": {},
   "outputs": [],
   "source": [
    "shps = []\n",
    "for file in os.listdir(GRADIENT_DATA_PATH):\n",
    "    if \".shp\" in file:\n",
    "        shps.append(file)\n",
    "\n",
    "for file in tqdm(shps, 'Cycle Generation', unit = 'route'):\n",
    "    \n",
    "    route = gpd.read_file(os.path.join(GRADIENT_DATA_PATH,file))\n",
    "    route.crs = 'epsg:32614'\n",
    "    \n",
    "    for month_bucket in range(4):\n",
    "        for hour_bucket in range(3):\n",
    "            \n",
    "            df = speed_dfs[month_bucket][hour_bucket]\n",
    "            \n",
    "            bucket = \"%d_%d\" % (month_bucket, hour_bucket)\n",
    "            \n",
    "            out_path = os.path.join(OUTPUT_PATH, bucket, file.replace(\"shp\",\"csv\"))\n",
    "            \n",
    "            add_speed(df, route)\n",
    "            \n",
    "            break\n",
    "            \n",
    "            to_cycle(route, out_path)"
   ]
  },
  {
   "cell_type": "code",
   "execution_count": null,
   "metadata": {},
   "outputs": [],
   "source": []
  }
 ],
 "metadata": {
  "kernelspec": {
   "display_name": "Python 3",
   "language": "python",
   "name": "python3"
  },
  "language_info": {
   "codemirror_mode": {
    "name": "ipython",
    "version": 3
   },
   "file_extension": ".py",
   "mimetype": "text/x-python",
   "name": "python",
   "nbconvert_exporter": "python",
   "pygments_lexer": "ipython3",
   "version": "3.6.7"
  }
 },
 "nbformat": 4,
 "nbformat_minor": 4
}
