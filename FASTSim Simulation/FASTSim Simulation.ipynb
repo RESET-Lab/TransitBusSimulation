{
 "cells": [
  {
   "cell_type": "code",
   "execution_count": 3,
   "metadata": {},
   "outputs": [],
   "source": [
    "import time\n",
    "import os\n",
    "import pandas as pd\n",
    "import matplotlib.pyplot as plt\n",
    "from pathlib import Path"
   ]
  },
  {
   "cell_type": "code",
   "execution_count": 5,
   "metadata": {},
   "outputs": [],
   "source": [
    "from fastsim import simdrive, vehicle, cycle"
   ]
  },
  {
   "cell_type": "code",
   "execution_count": 6,
   "metadata": {},
   "outputs": [],
   "source": [
    "def get_path(bucket, name):\n",
    "    input_path = Path.cwd().parent / 'Data' / 'Cycle Data' / 'Original'\n",
    "    return (input_path / bucket / name).with_suffix('.csv')\n",
    "\n",
    "def get_cycle(path):\n",
    "    t0 = time.time()\n",
    "    cyc = cycle.Cycle(cyc_file_path=path)\n",
    "    cyc_jit = cyc.get_numba_cyc()\n",
    "    print(f'Time to load cycle: {time.time() - t0:.2e} s')\n",
    "    return cyc, cyc_jit"
   ]
  },
  {
   "cell_type": "code",
   "execution_count": 7,
   "metadata": {},
   "outputs": [
    {
     "name": "stdout",
     "output_type": "stream",
     "text": [
      "Time to load cycle: 8.34e-01 s\n"
     ]
    }
   ],
   "source": [
    "cyc, cyc_jit = get_cycle(get_path('0_0','CORREDOR ACASA'))"
   ]
  },
  {
   "cell_type": "code",
   "execution_count": 8,
   "metadata": {},
   "outputs": [
    {
     "name": "stdout",
     "output_type": "stream",
     "text": [
      "Time to load vehicle: 6.81e+00 s\n"
     ]
    }
   ],
   "source": [
    "t0 = time.time()\n",
    "veh = vehicle.Vehicle(22)\n",
    "veh_jit = veh.get_numba_veh()\n",
    "print(f'Time to load vehicle: {time.time() - t0:.2e} s')"
   ]
  },
  {
   "cell_type": "code",
   "execution_count": 19,
   "metadata": {},
   "outputs": [
    {
     "name": "stdout",
     "output_type": "stream",
     "text": [
      "Time to simulate: 4.20e-01 s\n",
      "Time to post process: 7.63e-01 s\n"
     ]
    }
   ],
   "source": [
    "t0 = time.time()\n",
    "sim_drive = simdrive.SimDriveJit(cyc_jit, veh_jit)\n",
    "#initSoc = 0.7935\n",
    "#sim_drive.essCurKwh[0] = initSoc * sim_drive.veh.maxEssKwh\n",
    "sim_drive.sim_drive() # REPLACE WITH SIMULATION OF ENERGY CONSUMPTION\n",
    "print(f'Time to simulate: {time.time() - t0:.2e} s')\n",
    "\n",
    "t0 = time.time()\n",
    "sim_drive_post = simdrive.SimDrivePost(sim_drive)\n",
    "output = sim_drive_post.get_output()\n",
    "sim_drive_post.set_battery_wear()\n",
    "diag = sim_drive_post.get_diagnostics()\n",
    "print(f'Time to post process: {time.time() - t0:.2e} s')"
   ]
  },
  {
   "cell_type": "code",
   "execution_count": 28,
   "metadata": {},
   "outputs": [
    {
     "name": "stdout",
     "output_type": "stream",
     "text": [
      "Simulation summary:\n",
      "Final S.O.C.: 84.64 %\n",
      "Distance driven: 23.96 miles\n",
      "\n",
      "Unknown output values:\n",
      "battery_kWh_per_mi: 0.17 kWh/mile\n",
      "electric_kWh_per_mi: 0.17 kWh/mile\n",
      "mpgge: 0.00\n",
      "mpgge_elec: 200.98\n"
     ]
    }
   ],
   "source": [
    "print('Simulation summary:')\n",
    "print(f'Final S.O.C.: {output[\"final_soc\"]*100:.2f} %')\n",
    "print(f'Distance driven: {output[\"distance_mi\"]:.2f} miles')\n",
    "\n",
    "# TODO found out what the following values mean\n",
    "print('\\nUnknown output values:')  \n",
    "print(f'battery_kWh_per_mi: {output[\"battery_kWh_per_mi\"]:.2f} kWh/mile')\n",
    "print(f'electric_kWh_per_mi: {output[\"electric_kWh_per_mi\"]:.2f} kWh/mile') # TODO how does this differ from previous?\n",
    "print(f'mpgge: {output[\"mpgge\"]:.2f}')\n",
    "print(f'mpgge_elec: {output[\"mpgge_elec\"]:.2f}')"
   ]
  },
  {
   "cell_type": "code",
   "execution_count": 9,
   "metadata": {},
   "outputs": [],
   "source": [
    "df = pd.DataFrame.from_dict(output)\n",
    "df['speed'] = cyc.cycMps * 2.23694  # Convert mps to mph"
   ]
  },
  {
   "cell_type": "code",
   "execution_count": 1,
   "metadata": {},
   "outputs": [
    {
     "ename": "NameError",
     "evalue": "name 'plt' is not defined",
     "output_type": "error",
     "traceback": [
      "\u001b[0;31m---------------------------------------------------------------------------\u001b[0m",
      "\u001b[0;31mNameError\u001b[0m                                 Traceback (most recent call last)",
      "\u001b[0;32m<ipython-input-1-45a08e32eadb>\u001b[0m in \u001b[0;36m<module>\u001b[0;34m\u001b[0m\n\u001b[0;32m----> 1\u001b[0;31m \u001b[0mfig\u001b[0m\u001b[0;34m,\u001b[0m \u001b[0max\u001b[0m \u001b[0;34m=\u001b[0m \u001b[0mplt\u001b[0m\u001b[0;34m.\u001b[0m\u001b[0msubplots\u001b[0m\u001b[0;34m(\u001b[0m\u001b[0;36m2\u001b[0m\u001b[0;34m,\u001b[0m\u001b[0;36m2\u001b[0m\u001b[0;34m,\u001b[0m \u001b[0mfigsize\u001b[0m \u001b[0;34m=\u001b[0m \u001b[0;34m(\u001b[0m\u001b[0;36m30\u001b[0m\u001b[0;34m,\u001b[0m\u001b[0;36m20\u001b[0m\u001b[0;34m)\u001b[0m\u001b[0;34m)\u001b[0m\u001b[0;34m\u001b[0m\u001b[0;34m\u001b[0m\u001b[0m\n\u001b[0m\u001b[1;32m      2\u001b[0m \u001b[0;34m\u001b[0m\u001b[0m\n\u001b[1;32m      3\u001b[0m \u001b[0;32mfor\u001b[0m \u001b[0mi\u001b[0m \u001b[0;32min\u001b[0m \u001b[0mrange\u001b[0m\u001b[0;34m(\u001b[0m\u001b[0;36m2\u001b[0m\u001b[0;34m)\u001b[0m\u001b[0;34m:\u001b[0m\u001b[0;34m\u001b[0m\u001b[0;34m\u001b[0m\u001b[0m\n\u001b[1;32m      4\u001b[0m     \u001b[0;32mfor\u001b[0m \u001b[0mj\u001b[0m \u001b[0;32min\u001b[0m \u001b[0mrange\u001b[0m\u001b[0;34m(\u001b[0m\u001b[0;36m2\u001b[0m\u001b[0;34m)\u001b[0m\u001b[0;34m:\u001b[0m \u001b[0max\u001b[0m\u001b[0;34m[\u001b[0m\u001b[0;36m0\u001b[0m\u001b[0;34m,\u001b[0m\u001b[0mi\u001b[0m\u001b[0;34m]\u001b[0m\u001b[0;34m.\u001b[0m\u001b[0mset_xlabel\u001b[0m\u001b[0;34m(\u001b[0m\u001b[0;34m'Time'\u001b[0m\u001b[0;34m)\u001b[0m\u001b[0;34m\u001b[0m\u001b[0;34m\u001b[0m\u001b[0m\n\u001b[1;32m      5\u001b[0m \u001b[0;34m\u001b[0m\u001b[0m\n",
      "\u001b[0;31mNameError\u001b[0m: name 'plt' is not defined"
     ]
    }
   ],
   "source": [
    "fig, ax = plt.subplots(2,2, figsize = (30,20))\n",
    "\n",
    "for i in range(2):\n",
    "    for j in range(2): ax[0,i].set_xlabel('Time')\n",
    "    \n",
    "ax[0,0].plot(df['time'],df['speed'])\n",
    "ax[0,0].set_ylabel('Speed')\n",
    "ax[0,1].plot(df['time'],sim_drive.fcKwOutAch)\n",
    "ax[0,1].set_ylabel('Fuel Converter Output')\n",
    "ax[1,0].plot(df['time'],sim_drive.essKwOutAch)\n",
    "ax[1,0].set_ylabel('Electric Storage System Output')\n",
    "ax[1,1].plot(df['time'],df['soc'])\n",
    "ax[1,1].set_ylabel('State of Charge')\n",
    "pass"
   ]
  },
  {
   "cell_type": "code",
   "execution_count": 45,
   "metadata": {},
   "outputs": [
    {
     "ename": "AttributeError",
     "evalue": "'Vehicle' object has no attribute 'describe'",
     "output_type": "error",
     "traceback": [
      "\u001b[0;31m---------------------------------------------------------------------------\u001b[0m",
      "\u001b[0;31mAttributeError\u001b[0m                            Traceback (most recent call last)",
      "\u001b[0;32m<ipython-input-45-c3ee9f501e0e>\u001b[0m in \u001b[0;36m<module>\u001b[0;34m\u001b[0m\n\u001b[0;32m----> 1\u001b[0;31m \u001b[0mveh\u001b[0m\u001b[0;34m.\u001b[0m\u001b[0mdescribe\u001b[0m\u001b[0;34m(\u001b[0m\u001b[0;34m)\u001b[0m\u001b[0;34m\u001b[0m\u001b[0;34m\u001b[0m\u001b[0m\n\u001b[0m",
      "\u001b[0;31mAttributeError\u001b[0m: 'Vehicle' object has no attribute 'describe'"
     ]
    }
   ],
   "source": [
    "veh.describe()"
   ]
  },
  {
   "cell_type": "code",
   "execution_count": null,
   "metadata": {},
   "outputs": [],
   "source": []
  }
 ],
 "metadata": {
  "kernelspec": {
   "display_name": "tbs-kernel",
   "language": "python",
   "name": "tbs-kernel"
  },
  "language_info": {
   "codemirror_mode": {
    "name": "ipython",
    "version": 3
   },
   "file_extension": ".py",
   "mimetype": "text/x-python",
   "name": "python",
   "nbconvert_exporter": "python",
   "pygments_lexer": "ipython3",
   "version": "3.7.9"
  }
 },
 "nbformat": 4,
 "nbformat_minor": 4
}
