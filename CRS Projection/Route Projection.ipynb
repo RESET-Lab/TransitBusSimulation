{
 "cells": [
  {
   "cell_type": "markdown",
   "metadata": {},
   "source": [
    "# Route Projection\n",
    "\n",
    "This script converts the bus routes into a coordinate refrence system (CRS) which is more useful for our calculations. Essentially it turns points from latititude and longitude pairs to measuresments in meters.\n",
    "\n",
    "Details about the used systems can be found here:\n",
    "\n",
    "* Original : https://epsg.io/4326\n",
    "* Projected: https://epsg.io/32614\n"
   ]
  },
  {
   "cell_type": "code",
   "execution_count": 12,
   "metadata": {},
   "outputs": [],
   "source": [
    "import pandas as pd\n",
    "import geopandas as gpd\n",
    "import os\n",
    "import tqdm"
   ]
  },
  {
   "cell_type": "code",
   "execution_count": 19,
   "metadata": {},
   "outputs": [
    {
     "name": "stderr",
     "output_type": "stream",
     "text": [
      "ROUTE PROJECTION: 100%|████████| 109/109 [00:14<00:00,  7.42it/s]\n"
     ]
    }
   ],
   "source": [
    "ORIGINAL_PATH = '../Data/Bus Routes/Original'\n",
    "PROJECTED_PATH = '../Data/Bus Routes/Projected'\n",
    "\n",
    "paths = []\n",
    "for path in os.listdir(ORIGINAL_PATH):\n",
    "    if \".shp\" in path:\n",
    "        paths.append(path)\n",
    "\n",
    "\n",
    "for path in tqdm.tqdm(paths, 'ROUTE PROJECTION'):\n",
    "    cur_file = gpd.read_file(os.path.join(ORIGINAL_PATH,path))\n",
    "    cur_file.crs = \"EPSG:4326\"\n",
    "    cur_file = cur_file.to_crs(\"EPSG:32614\")\n",
    "    cur_file.to_file(os.path.join(PROJECTED_PATH,path))"
   ]
  }
 ],
 "metadata": {
  "kernelspec": {
   "display_name": "Python 3",
   "language": "python",
   "name": "python3"
  },
  "language_info": {
   "codemirror_mode": {
    "name": "ipython",
    "version": 3
   },
   "file_extension": ".py",
   "mimetype": "text/x-python",
   "name": "python",
   "nbconvert_exporter": "python",
   "pygments_lexer": "ipython3",
   "version": "3.6.7"
  }
 },
 "nbformat": 4,
 "nbformat_minor": 2
}
